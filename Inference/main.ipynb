{
 "cells": [
  {
   "cell_type": "markdown",
   "metadata": {},
   "source": [
    "## 1. Import Libraries"
   ]
  },
  {
   "cell_type": "code",
   "execution_count": 78,
   "metadata": {},
   "outputs": [],
   "source": [
    "import os"
   ]
  },
  {
   "cell_type": "markdown",
   "metadata": {},
   "source": [
    "## 2. Set Global Parameters"
   ]
  },
  {
   "cell_type": "code",
   "execution_count": 79,
   "metadata": {},
   "outputs": [
    {
     "name": "stdout",
     "output_type": "stream",
     "text": [
      "13\n"
     ]
    }
   ],
   "source": [
    "HIDDEN_LAYER_NEURONS = 10\n",
    "OUTPUT_LAYER_NEURONS = 10\n",
    "\n",
    "input_file_path = \"../Training/model_weights.txt\"  # Update this path to your weights file\n",
    "output_directory = \"./Hidden_Neuron_Weights/\"  # Update this path to your desired output directory\n",
    "\n",
    "dataWidth = 16\n",
    "weightIntWidth = 3\n",
    "\n",
    "outPATH = \"Binary_Rep/\"\n",
    "inputFile = \"Hidden_Neuron_Weights/\"\n",
    "\n",
    "weightFracWidth = dataWidth - weightIntWidth\n",
    "print(weightFracWidth)"
   ]
  },
  {
   "cell_type": "markdown",
   "metadata": {},
   "source": [
    "## 3. Utils Function for Separate All of Weights"
   ]
  },
  {
   "cell_type": "code",
   "execution_count": 80,
   "metadata": {},
   "outputs": [],
   "source": [
    "def parse_weight_line(line):\n",
    "    \"\"\"\n",
    "    Parse a line from the weight file and extract the layer, source neuron,\n",
    "    destination neuron, and weight value. Adjusted to handle commas.\n",
    "    \"\"\"\n",
    "    parts = line.replace(',', '').split()  # Remove commas before splitting\n",
    "    layer = int(parts[2])\n",
    "    source_neuron = int(parts[4])\n",
    "    dest_neuron = int(parts[9])\n",
    "    weight = float(parts[-1])\n",
    "    return layer, source_neuron, dest_neuron, weight"
   ]
  },
  {
   "cell_type": "code",
   "execution_count": 81,
   "metadata": {},
   "outputs": [],
   "source": [
    "def distribute_weights(input_file, output_dir):\n",
    "    # Ensure the output directory exists\n",
    "    if(not os.path.exists(output_dir)):\n",
    "        os.makedirs(output_dir)\n",
    "    \n",
    "    # Adjust initialization to include neuron '0'\n",
    "    neuron_weights = {'hidden': {i: [] for i in range(0, HIDDEN_LAYER_NEURONS + 1)},\n",
    "                      'output': {i: [] for i in range(0, OUTPUT_LAYER_NEURONS + 1)}}\n",
    "    \n",
    "    # Read and parse the input file\n",
    "    with open(input_file, 'r') as f:\n",
    "        for line in f:\n",
    "            layer, source_neuron, dest_neuron, weight = parse_weight_line(line)       \n",
    "            neuron_type = 'hidden' if layer == 1 else 'output'\n",
    "            neuron_weights[neuron_type][dest_neuron].append((source_neuron, weight))\n",
    "    \n",
    "    # Write weights to separate files\n",
    "    for neuron_type, neurons in neuron_weights.items():\n",
    "        for neuron_id, weights in neurons.items():\n",
    "            file_name = f\"{neuron_type}_neuron_{neuron_id}_weights.txt\"\n",
    "            file_path = os.path.join(output_dir, file_name)\n",
    "            with open(file_path, 'w') as f:\n",
    "                for source_neuron, weight in weights:\n",
    "                    f.write(f\"{weight}\\n\")"
   ]
  },
  {
   "cell_type": "markdown",
   "metadata": {},
   "source": [
    "## 4. Create Spare Weights File"
   ]
  },
  {
   "cell_type": "code",
   "execution_count": 82,
   "metadata": {},
   "outputs": [],
   "source": [
    "distribute_weights(input_file_path, output_directory)"
   ]
  },
  {
   "cell_type": "markdown",
   "metadata": {},
   "source": [
    "## 5. Convert Weights to the Binary Representation"
   ]
  },
  {
   "cell_type": "markdown",
   "metadata": {},
   "source": [
    "### 5.1. To Binary Function"
   ]
  },
  {
   "cell_type": "code",
   "execution_count": 83,
   "metadata": {},
   "outputs": [],
   "source": [
    "def DtoB(num, dataWidth, fracBits):\n",
    "    if(num >= 0):\n",
    "        num = num * (2 ** fracBits)\n",
    "    else:\n",
    "        num = (num + 2**(dataWidth + fracBits)) * (2 ** fracBits)\n",
    "    num = int(num) & (2 ** dataWidth - 1)\n",
    "    return format(num, '0{}b'.format(dataWidth))"
   ]
  },
  {
   "cell_type": "code",
   "execution_count": 84,
   "metadata": {},
   "outputs": [
    {
     "data": {
      "text/plain": [
       "['hidden_neuron_0_weights.txt',\n",
       " 'hidden_neuron_10_weights.txt',\n",
       " 'hidden_neuron_1_weights.txt',\n",
       " 'hidden_neuron_2_weights.txt',\n",
       " 'hidden_neuron_3_weights.txt',\n",
       " 'hidden_neuron_4_weights.txt',\n",
       " 'hidden_neuron_5_weights.txt',\n",
       " 'hidden_neuron_6_weights.txt',\n",
       " 'hidden_neuron_7_weights.txt',\n",
       " 'hidden_neuron_8_weights.txt',\n",
       " 'hidden_neuron_9_weights.txt',\n",
       " 'output_neuron_0_weights.txt',\n",
       " 'output_neuron_10_weights.txt',\n",
       " 'output_neuron_1_weights.txt',\n",
       " 'output_neuron_2_weights.txt',\n",
       " 'output_neuron_3_weights.txt',\n",
       " 'output_neuron_4_weights.txt',\n",
       " 'output_neuron_5_weights.txt',\n",
       " 'output_neuron_6_weights.txt',\n",
       " 'output_neuron_7_weights.txt',\n",
       " 'output_neuron_8_weights.txt',\n",
       " 'output_neuron_9_weights.txt']"
      ]
     },
     "execution_count": 84,
     "metadata": {},
     "output_type": "execute_result"
    }
   ],
   "source": [
    "files = [f for f in os.listdir(inputFile) if f.endswith('.txt')]\n",
    "files"
   ]
  },
  {
   "cell_type": "markdown",
   "metadata": {},
   "source": [
    "### 5.2. Convert All Weights to Binary"
   ]
  },
  {
   "cell_type": "code",
   "execution_count": 86,
   "metadata": {},
   "outputs": [
    {
     "name": "stdout",
     "output_type": "stream",
     "text": [
      "All files have been processed and saved in 'Binary_Rep/' directory.\n"
     ]
    }
   ],
   "source": [
    "for file in files:\n",
    "    input_file_path = os.path.join(inputFile, file)\n",
    "    output_file_path = os.path.join(outPATH + \"txt/\", f\"bin_{file}\")\n",
    "    \n",
    "    with open(input_file_path, 'r') as infile, open(output_file_path, 'w') as outfile:\n",
    "        for line in infile:\n",
    "            num = float(line.strip())  # Read and convert each line to a float\n",
    "            binary_rep = DtoB(num, dataWidth, weightFracWidth)  # Convert to binary\n",
    "            outfile.write(binary_rep + '\\n')  # Write the binary representation to the output file\n",
    "\n",
    "print(\"All files have been processed and saved in 'Binary_Rep/' directory.\")"
   ]
  },
  {
   "cell_type": "markdown",
   "metadata": {},
   "source": [
    "### 5.3. Save Weights With `.bat` Format "
   ]
  },
  {
   "cell_type": "code",
   "execution_count": 87,
   "metadata": {},
   "outputs": [
    {
     "name": "stdout",
     "output_type": "stream",
     "text": [
      "All files have been processed and saved in 'Binary_Rep/' directory with .bat format.\n"
     ]
    }
   ],
   "source": [
    "for file in files:\n",
    "    input_file_path = os.path.join(inputFile, file)\n",
    "    output_file_path = os.path.join(outPATH + \"bat/\", f\"bin_{os.path.splitext(file)[0]}.bat\")  # Save as .bat\n",
    "    \n",
    "    with open(input_file_path, 'r') as infile, open(output_file_path, 'w') as outfile:\n",
    "        for line in infile:\n",
    "            num = float(line.strip())  # Read and convert each line to a float\n",
    "            binary_rep = DtoB(num, dataWidth, weightFracWidth)  # Convert to binary\n",
    "            outfile.write(binary_rep + '\\n')  # Write the binary representation to the output file\n",
    "\n",
    "print(\"All files have been processed and saved in 'Binary_Rep/bat/' directory with .bat format.\")"
   ]
  }
 ],
 "metadata": {
  "kernelspec": {
   "display_name": "Python 3",
   "language": "python",
   "name": "python3"
  },
  "language_info": {
   "codemirror_mode": {
    "name": "ipython",
    "version": 3
   },
   "file_extension": ".py",
   "mimetype": "text/x-python",
   "name": "python",
   "nbconvert_exporter": "python",
   "pygments_lexer": "ipython3",
   "version": "3.12.3"
  }
 },
 "nbformat": 4,
 "nbformat_minor": 2
}
